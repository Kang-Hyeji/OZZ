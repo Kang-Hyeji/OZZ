{
 "cells": [
  {
   "cell_type": "markdown",
   "metadata": {},
   "source": [
    "# 코랩에서 돌릴 때 실행"
   ]
  },
  {
   "cell_type": "code",
   "execution_count": null,
   "metadata": {
    "colab": {
     "base_uri": "https://localhost:8080/"
    },
    "id": "EKbWLrkOTfMm",
    "outputId": "a047d4b1-5dea-4f50-e727-f40c80964d0a"
   },
   "outputs": [],
   "source": [
    "!apt-get update\n",
    "!apt-get install g++ openjdk-8-jdk python-dev python3-dev\n",
    "!pip3 install JPype1-py3\n",
    "!pip3 install konlpy\n",
    "!JAVA_HOME=\"/usr/lib/jvm/java-8-openjdk-amd64\""
   ]
  },
  {
   "cell_type": "code",
   "execution_count": null,
   "metadata": {
    "colab": {
     "base_uri": "https://localhost:8080/"
    },
    "id": "ACpGEkRZTRlF",
    "outputId": "58dbda1b-f527-472f-c12d-81fb4292fc5c"
   },
   "outputs": [],
   "source": [
    "import os\n",
    "# mecab-ko 설치\n",
    "os.chdir('/tmp/')\n",
    "!curl -LO https://bitbucket.org/eunjeon/mecab-ko/downloads/mecab-0.996-ko-0.9.1.tar.gz\n",
    "!tar zxfv mecab-0.996-ko-0.9.1.tar.gz\n",
    "os.chdir('/tmp/mecab-0.996-ko-0.9.1')\n",
    "!./configure\n",
    "!make\n",
    "!make check\n",
    "!make install\n",
    "\n",
    "# mecab-ko-dic 설치\n",
    "os.chdir('/tmp')\n",
    "!curl -LO https://bitbucket.org/eunjeon/mecab-ko-dic/downloads/mecab-ko-dic-2.0.1-20150920.tar.gz\n",
    "!tar -zxvf mecab-ko-dic-2.0.1-20150920.tar.gz\n",
    "os.chdir('/tmp/mecab-ko-dic-2.0.1-20150920')\n",
    "!./autogen.sh\n",
    "!./configure\n",
    "!make\n",
    "# !sh -c 'echo \"dicdir=/usr/local/lib/mecab/dic/mecab-ko-dic\" > /usr/local/etc/mecabrc'\n",
    "!make install\n",
    "\n",
    "# mecab-python 설치: python3 기준\n",
    "os.chdir('/content')\n",
    "!git clone https://bitbucket.org/eunjeon/mecab-python-0.996.git\n",
    "os.chdir('/content/mecab-python-0.996')\n",
    "!python3 setup.py build\n",
    "!python3 setup.py install"
   ]
  },
  {
   "cell_type": "code",
   "execution_count": null,
   "metadata": {
    "colab": {
     "base_uri": "https://localhost:8080/",
     "height": 327
    },
    "id": "P30O1K8uT40r",
    "outputId": "47a09023-91cb-4b07-876f-2c62f19265ef"
   },
   "outputs": [],
   "source": [
    "import os\n",
    "os.chdir('/usr/local/lib/python3.6/dist-packages/konlpy/java')\n",
    "os.getcwd() \n",
    "os.makedirs('./ozz')"
   ]
  },
  {
   "cell_type": "code",
   "execution_count": null,
   "metadata": {
    "id": "u3hWOTSyUGCa"
   },
   "outputs": [],
   "source": [
    "os.chdir('ozz')"
   ]
  },
  {
   "cell_type": "code",
   "execution_count": null,
   "metadata": {
    "colab": {
     "base_uri": "https://localhost:8080/"
    },
    "id": "BHY70j-BUJBu",
    "outputId": "20f698cd-d8d6-46d1-d9a4-db65ec99ef03"
   },
   "outputs": [],
   "source": [
    "!jar xvf ../open-korean-text-2.1.0.jar"
   ]
  },
  {
   "cell_type": "code",
   "execution_count": null,
   "metadata": {
    "id": "kuxoaMVlUK01"
   },
   "outputs": [],
   "source": [
    "with open(f\"/usr/local/lib/python3.6/dist-packages/konlpy/java/ozz/org/openkoreantext/processor/util/noun/nouns.txt\") as f:\n",
    "    data = f.read()"
   ]
  },
  {
   "cell_type": "code",
   "execution_count": null,
   "metadata": {
    "id": "Egq1etj5UNM8"
   },
   "outputs": [],
   "source": [
    "data += \"아메리카노\\n아아\\n라떼\\n카페라떼\\n바닐라라떼\\n아바라\\n레몬에이드\\n자몽차\\n녹차라떼\\n초코라떼\\n밀크티\\n치즈케익\\n한개\\n한잔\\n두잔\\n두개\\n세잔\\n세개\\n네잔\\n네개\\n다섯개\\n다섯잔\\n여섯잔\\n일곱잔\""
   ]
  },
  {
   "cell_type": "code",
   "execution_count": null,
   "metadata": {
    "id": "pqINXpBlUP3y"
   },
   "outputs": [],
   "source": [
    "with open(\"/usr/local/lib/python3.6/dist-packages/konlpy/java/ozz/org/openkoreantext/processor/util/noun/nouns.txt\", 'w') as f:\n",
    "    f.write(data)"
   ]
  },
  {
   "cell_type": "code",
   "execution_count": null,
   "metadata": {
    "colab": {
     "base_uri": "https://localhost:8080/"
    },
    "id": "Z_jf0RRwURcD",
    "outputId": "0b06d106-faf1-43fe-e627-a51f56007a7e"
   },
   "outputs": [],
   "source": [
    "!jar cvf ../open-korean-text-2.1.0.jar * "
   ]
  },
  {
   "cell_type": "code",
   "execution_count": null,
   "metadata": {},
   "outputs": [],
   "source": []
  },
  {
   "cell_type": "markdown",
   "metadata": {},
   "source": [
    "# 로컬에서 돌릴때"
   ]
  },
  {
   "cell_type": "markdown",
   "metadata": {},
   "source": [
    "# 수작업으로\n",
    "1. C:\\Users\\hwasa\\Anaconda3\\Lib\\site-packages\\konlpy\\java 폴더 이동\n",
    "2. open-korean-text-2.1.0 파일 -> 압축파일 미리보기\n",
    "3. ./org/openkoreantext/processor/util/noun/nouns.txt 파일 열기 아래 단어 붙여넣기\n",
    "\n",
    "다섯\n",
    "아홉\n",
    "여덟\n",
    "여섯\n",
    "일곱\n",
    "아메리카노\n",
    "아아\n",
    "라떼\n",
    "카페라떼\n",
    "바닐라라떼\n",
    "아바라\n",
    "레몬에이드\n",
    "자몽차\n",
    "녹차라떼\n",
    "초코라떼\n",
    "밀크티\n",
    "치즈케익\n",
    "한개\n",
    "한잔\n",
    "하나\n",
    "둘\n",
    "셋\n",
    "넷\n",
    "두잔\n",
    "두개\n",
    "세잔\n",
    "세개\n",
    "네잔\n",
    "네개\n",
    "다섯개\n",
    "다섯잔\n",
    "여섯잔\n",
    "일곱잔\n",
    "에스프레소\n",
    "자바칩프라푸치노\n",
    "카푸치노\n",
    "\n",
    "4. ctr+s 후에 파일 닫으면 변경된 파일을 압축파일에 적용하시겠습니까? ->예!!!!!!"
   ]
  },
  {
   "cell_type": "code",
   "execution_count": 1,
   "metadata": {
    "id": "PkI1s4TpU8UJ"
   },
   "outputs": [],
   "source": [
    "from konlpy.tag import Okt\n",
    "okt = Okt()"
   ]
  },
  {
   "cell_type": "code",
   "execution_count": 2,
   "metadata": {
    "id": "l-hd-Kf_TDVC"
   },
   "outputs": [],
   "source": [
    "cafe = {\n",
    "    \"에스프레소\" : 3000,\n",
    "    \"아메리카노\": 4000,\n",
    "    \"아아\": 4000,\n",
    "    \"카페라떼\" : 4500,\n",
    "    \"바닐라라떼\":5000,\n",
    "    \"아바라\":5000,\n",
    "    \"레몬에이드\" : 5500,\n",
    "    \"자몽차\":5000,\n",
    "    \"초코라떼\" : 5000,\n",
    "    \"자바칩프라프치노\":5500,\n",
    "    \"녹차라떼\":5000,\n",
    "    \"치즈케익\":4000,\n",
    "    \"카푸치노\" : 4500,\n",
    "    \"밀크티\" : 4500,\n",
    "    \"베이글\" : 3000,\n",
    "    \"샌드위치\" : 3500\n",
    "}\n",
    "\n",
    "\n",
    "number = {\n",
    "    \"한잔\":1,\n",
    "    \"한개\":1,\n",
    "    \"하나\":1,\n",
    "    \"두잔\":2,\n",
    "    \"두개\":2,\n",
    "    \"둘\":2,\n",
    "    \"셋\":3,\n",
    "    \"세잔\":3,\n",
    "    \"세개\":3,\n",
    "    \"넷\":4,\n",
    "    \"네잔\":4,\n",
    "    \"네개\":4,\n",
    "    \"다섯\":5,\n",
    "    \"다섯잔\":5,\n",
    "    \"다섯개\":5\n",
    "}"
   ]
  },
  {
   "cell_type": "code",
   "execution_count": 3,
   "metadata": {
    "id": "NaE5HhuFVAyu"
   },
   "outputs": [
    {
     "name": "stdout",
     "output_type": "stream",
     "text": [
      "아메리카노 두잔 아바라 세잔 베이글 하나 샌드위치 두개 주세요\n",
      "아메리카노 2,아바라 3,베이글 1,샌드위치 2, 총 가격은  33000 원 입니다\n"
     ]
    }
   ],
   "source": [
    "text = input()\n",
    "\n",
    "text_token = okt.nouns(text)\n",
    "\n",
    "def remove_values_from_list(the_list, val):\n",
    "    return [value for value in the_list if value != val]\n",
    "\n",
    "text_token = remove_values_from_list(text_token, '아이스')\n",
    "sum = 0\n",
    "check=''\n",
    "# print(okt.pos(text))\n",
    "# print(okt.nouns(text))\n",
    "len_order = len(text_token)\n",
    "\n",
    "\n",
    "for i in range(0,len_order,2) :\n",
    "    if text_token[i] in cafe:\n",
    "        menu= text_token[i]\n",
    "        num = number[text_token[i+1]]\n",
    "        sum += cafe[menu]*num\n",
    "        check += menu+' '+str(num)+','\n",
    "    else :\n",
    "        print(\"죄송합니다. 저희 메뉴에 \",text_token[i],\"가 없습니다 ㅠㅠ\")\n",
    "\n",
    "print(check,\"총 가격은 \",sum,\"원 입니다\")\n",
    "  "
   ]
  },
  {
   "cell_type": "code",
   "execution_count": 7,
   "metadata": {
    "colab": {
     "base_uri": "https://localhost:8080/",
     "height": 1000
    },
    "id": "Nvdk8y-ywr9t",
    "outputId": "051c9f2d-2eeb-461e-f01e-d21a4237ab79"
   },
   "outputs": [
    {
     "name": "stdout",
     "output_type": "stream",
     "text": [
      "아이스 아메리카노 두잔 카페라떼 한잔 주세요\n",
      "-------------------------\n",
      "장바구니 (더 필요하신거 있나요? 주문 끝나면 \"주문 끝\"이라고 말해주세요!)\n",
      "아메리카노 2,카페라떼 1,\n",
      "-------------------------\n",
      "샌드위치 두개 치즈케익 하나\n",
      "-------------------------\n",
      "장바구니 (더 필요하신거 있나요? 주문 끝나면 \"주문 끝\"이라고 말해주세요!)\n",
      "아메리카노 2,카페라떼 1,샌드위치 2,치즈케익 1,\n",
      "-------------------------\n",
      "레몬에이드 세개 자몽차 하나\n",
      "-------------------------\n",
      "장바구니 (더 필요하신거 있나요? 주문 끝나면 \"주문 끝\"이라고 말해주세요!)\n",
      "아메리카노 2,카페라떼 1,샌드위치 2,치즈케익 1,레몬에이드 3,자몽차 1,\n",
      "-------------------------\n",
      "베이글 하나\n",
      "-------------------------\n",
      "장바구니 (더 필요하신거 있나요? 주문 끝나면 \"주문 끝\"이라고 말해주세요!)\n",
      "아메리카노 2,카페라떼 1,샌드위치 2,치즈케익 1,레몬에이드 3,자몽차 1,베이글 1,\n",
      "-------------------------\n",
      "주문 끝\n",
      "아메리카노 2,카페라떼 1,샌드위치 2,치즈케익 1,레몬에이드 3,자몽차 1,베이글 1, 총 가격은  48000 원 입니다\n"
     ]
    }
   ],
   "source": [
    "def remove_values_from_list(the_list, val):\n",
    "    return [value for value in the_list if value != val]\n",
    "\n",
    "sum = 0\n",
    "check=''\n",
    "\n",
    "while True :\n",
    "    text = input()\n",
    "    text_token = okt.nouns(text)\n",
    "    text_token = remove_values_from_list(text_token, '아이스')\n",
    "    len_order = len(text_token)\n",
    "\n",
    "\n",
    "    if text == \"주문 끝\":\n",
    "        print(check,\"총 가격은 \",sum,\"원 입니다\")\n",
    "        break\n",
    "\n",
    "    else :\n",
    "        for i in range(0,len_order,2) :\n",
    "            if text_token[i] in cafe:\n",
    "                menu= text_token[i]\n",
    "                num = number[text_token[i+1]]\n",
    "                sum += cafe[menu]*num\n",
    "                check += menu+' '+str(num)+','\n",
    "            else :\n",
    "                print(\"죄송합니다. 저희 메뉴에 \",text_token[i],\"가 없습니다 ㅠㅠ\")\n",
    "                \n",
    "        print('-'*25)\n",
    "        print('장바구니 (더 필요하신거 있나요? 주문 끝나면 \"주문 끝\"이라고 말해주세요!)')\n",
    "        print(check)\n",
    "        print('-'*25)"
   ]
  },
  {
   "cell_type": "markdown",
   "metadata": {},
   "source": []
  },
  {
   "cell_type": "code",
   "execution_count": null,
   "metadata": {
    "id": "A4V8ulRPb_P1"
   },
   "outputs": [],
   "source": []
  }
 ],
 "metadata": {
  "colab": {
   "collapsed_sections": [],
   "name": "cafe2.ipynb",
   "provenance": []
  },
  "kernelspec": {
   "display_name": "Python 3",
   "language": "python",
   "name": "python3"
  },
  "language_info": {
   "codemirror_mode": {
    "name": "ipython",
    "version": 3
   },
   "file_extension": ".py",
   "mimetype": "text/x-python",
   "name": "python",
   "nbconvert_exporter": "python",
   "pygments_lexer": "ipython3",
   "version": "3.7.7"
  }
 },
 "nbformat": 4,
 "nbformat_minor": 1
}
