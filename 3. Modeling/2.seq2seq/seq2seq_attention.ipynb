{
  "nbformat": 4,
  "nbformat_minor": 0,
  "metadata": {
    "colab": {
      "name": "ozzproject-chatbot.ipynb",
      "provenance": [],
      "collapsed_sections": []
    },
    "kernelspec": {
      "name": "python3",
      "display_name": "Python 3"
    }
  },
  "cells": [
    {
      "cell_type": "code",
      "metadata": {
        "id": "S0fyrDshrw0H",
        "outputId": "b2c2e391-7db6-42df-825a-c48d17c4db1a",
        "colab": {
          "base_uri": "https://localhost:8080/",
          "height": 34
        }
      },
      "source": [
        "!pip install mecab-python3"
      ],
      "execution_count": null,
      "outputs": [
        {
          "output_type": "stream",
          "text": [
            "Requirement already satisfied: mecab-python3 in /usr/local/lib/python3.6/dist-packages (1.0.1)\n"
          ],
          "name": "stdout"
        }
      ]
    },
    {
      "cell_type": "code",
      "metadata": {
        "id": "2KA4d_yTr6J9",
        "outputId": "791a44cd-fa0f-4b06-8e23-5aabdc5124a4",
        "colab": {
          "base_uri": "https://localhost:8080/",
          "height": 221
        }
      },
      "source": [
        "!apt-get update"
      ],
      "execution_count": null,
      "outputs": [
        {
          "output_type": "stream",
          "text": [
            "\r0% [Working]\r            \rHit:1 http://security.ubuntu.com/ubuntu bionic-security InRelease\n",
            "\r0% [Connecting to archive.ubuntu.com] [Connecting to cloud.r-project.org (13.32\r0% [1 InRelease gpgv 88.7 kB] [Connecting to archive.ubuntu.com] [Connected to \r                                                                               \rIgn:2 https://developer.download.nvidia.com/compute/cuda/repos/ubuntu1804/x86_64  InRelease\n",
            "\r0% [1 InRelease gpgv 88.7 kB] [Connecting to archive.ubuntu.com (91.189.88.142)\r                                                                               \rHit:3 https://cloud.r-project.org/bin/linux/ubuntu bionic-cran40/ InRelease\n",
            "\r0% [1 InRelease gpgv 88.7 kB] [Connecting to archive.ubuntu.com (91.189.88.142)\r                                                                               \rIgn:4 https://developer.download.nvidia.com/compute/machine-learning/repos/ubuntu1804/x86_64  InRelease\n",
            "\r0% [1 InRelease gpgv 88.7 kB] [Connecting to archive.ubuntu.com (91.189.88.142)\r                                                                               \rHit:5 http://ppa.launchpad.net/c2d4u.team/c2d4u4.0+/ubuntu bionic InRelease\n",
            "\r0% [1 InRelease gpgv 88.7 kB] [Connecting to archive.ubuntu.com (91.189.88.142)\r                                                                               \rHit:6 https://developer.download.nvidia.com/compute/cuda/repos/ubuntu1804/x86_64  Release\n",
            "Hit:7 https://developer.download.nvidia.com/compute/machine-learning/repos/ubuntu1804/x86_64  Release\n",
            "Hit:8 http://archive.ubuntu.com/ubuntu bionic InRelease\n",
            "Hit:9 http://ppa.launchpad.net/graphics-drivers/ppa/ubuntu bionic InRelease\n",
            "Hit:10 http://archive.ubuntu.com/ubuntu bionic-updates InRelease\n",
            "Hit:11 http://archive.ubuntu.com/ubuntu bionic-backports InRelease\n",
            "Reading package lists... Done\n"
          ],
          "name": "stdout"
        }
      ]
    },
    {
      "cell_type": "code",
      "metadata": {
        "id": "Jb-5dHE0r7ra",
        "outputId": "f495056f-2adb-461d-e15a-bd7d11fe5d6f",
        "colab": {
          "base_uri": "https://localhost:8080/",
          "height": 153
        }
      },
      "source": [
        "!apt-get install g++ openjdk-8-jdk python-dev python3-dev"
      ],
      "execution_count": null,
      "outputs": [
        {
          "output_type": "stream",
          "text": [
            "Reading package lists... Done\n",
            "Building dependency tree       \n",
            "Reading state information... Done\n",
            "python-dev is already the newest version (2.7.15~rc1-1).\n",
            "g++ is already the newest version (4:7.4.0-1ubuntu2.3).\n",
            "python3-dev is already the newest version (3.6.7-1~18.04).\n",
            "openjdk-8-jdk is already the newest version (8u265-b01-0ubuntu2~18.04).\n",
            "0 upgraded, 0 newly installed, 0 to remove and 21 not upgraded.\n"
          ],
          "name": "stdout"
        }
      ]
    },
    {
      "cell_type": "code",
      "metadata": {
        "id": "TiTiOS7cr7pM",
        "outputId": "603b3d98-b415-4aa1-ec0c-373600ed6cbb",
        "colab": {
          "base_uri": "https://localhost:8080/",
          "height": 54
        }
      },
      "source": [
        "!pip3 install JPype1-py3"
      ],
      "execution_count": null,
      "outputs": [
        {
          "output_type": "stream",
          "text": [
            "Requirement already satisfied: JPype1-py3 in /usr/local/lib/python3.6/dist-packages (0.5.5.4)\n"
          ],
          "name": "stdout"
        }
      ]
    },
    {
      "cell_type": "code",
      "metadata": {
        "id": "cDEyXSI4r7nE",
        "outputId": "29985409-331d-4946-87b8-1b5c44d67d86",
        "colab": {
          "base_uri": "https://localhost:8080/",
          "height": 326
        }
      },
      "source": [
        "!pip3 install konlpy"
      ],
      "execution_count": null,
      "outputs": [
        {
          "output_type": "stream",
          "text": [
            "Requirement already satisfied: konlpy in /usr/local/lib/python3.6/dist-packages (0.5.2)\n",
            "Requirement already satisfied: beautifulsoup4==4.6.0 in /usr/local/lib/python3.6/dist-packages (from konlpy) (4.6.0)\n",
            "Requirement already satisfied: colorama in /usr/local/lib/python3.6/dist-packages (from konlpy) (0.4.4)\n",
            "Requirement already satisfied: numpy>=1.6 in /usr/local/lib/python3.6/dist-packages (from konlpy) (1.18.5)\n",
            "Requirement already satisfied: JPype1>=0.7.0 in /usr/local/lib/python3.6/dist-packages (from konlpy) (1.0.2)\n",
            "Requirement already satisfied: tweepy>=3.7.0 in /usr/local/lib/python3.6/dist-packages (from konlpy) (3.9.0)\n",
            "Requirement already satisfied: lxml>=4.1.0 in /usr/local/lib/python3.6/dist-packages (from konlpy) (4.2.6)\n",
            "Requirement already satisfied: typing-extensions; python_version < \"3.8\" in /usr/local/lib/python3.6/dist-packages (from JPype1>=0.7.0->konlpy) (3.7.4.3)\n",
            "Requirement already satisfied: six>=1.10.0 in /usr/local/lib/python3.6/dist-packages (from tweepy>=3.7.0->konlpy) (1.15.0)\n",
            "Requirement already satisfied: requests-oauthlib>=0.7.0 in /usr/local/lib/python3.6/dist-packages (from tweepy>=3.7.0->konlpy) (1.3.0)\n",
            "Requirement already satisfied: requests[socks]>=2.11.1 in /usr/local/lib/python3.6/dist-packages (from tweepy>=3.7.0->konlpy) (2.23.0)\n",
            "Requirement already satisfied: oauthlib>=3.0.0 in /usr/local/lib/python3.6/dist-packages (from requests-oauthlib>=0.7.0->tweepy>=3.7.0->konlpy) (3.1.0)\n",
            "Requirement already satisfied: idna<3,>=2.5 in /usr/local/lib/python3.6/dist-packages (from requests[socks]>=2.11.1->tweepy>=3.7.0->konlpy) (2.10)\n",
            "Requirement already satisfied: chardet<4,>=3.0.2 in /usr/local/lib/python3.6/dist-packages (from requests[socks]>=2.11.1->tweepy>=3.7.0->konlpy) (3.0.4)\n",
            "Requirement already satisfied: urllib3!=1.25.0,!=1.25.1,<1.26,>=1.21.1 in /usr/local/lib/python3.6/dist-packages (from requests[socks]>=2.11.1->tweepy>=3.7.0->konlpy) (1.24.3)\n",
            "Requirement already satisfied: certifi>=2017.4.17 in /usr/local/lib/python3.6/dist-packages (from requests[socks]>=2.11.1->tweepy>=3.7.0->konlpy) (2020.6.20)\n",
            "Requirement already satisfied: PySocks!=1.5.7,>=1.5.6; extra == \"socks\" in /usr/local/lib/python3.6/dist-packages (from requests[socks]>=2.11.1->tweepy>=3.7.0->konlpy) (1.7.1)\n"
          ],
          "name": "stdout"
        }
      ]
    },
    {
      "cell_type": "code",
      "metadata": {
        "id": "KCDmfin_r7k7"
      },
      "source": [
        "!JAVA_HOME=\"/usr/lib/jvm/java-8-openjdk-amd64\""
      ],
      "execution_count": null,
      "outputs": []
    },
    {
      "cell_type": "code",
      "metadata": {
        "id": "p5FfKUN-r7ir",
        "outputId": "72e31d5f-fcd3-43d4-ee76-4ba200febfcf",
        "colab": {
          "base_uri": "https://localhost:8080/",
          "height": 717
        }
      },
      "source": [
        "# 이건 우선 패스할 것!\n",
        "# 만약에 밑에까지 다 했는데, 오류 뜨면 이거 돌려보고 다시 해볼 것!\n",
        "!apt-get update\n",
        "!apt-get install g++ openjdk-8-jdk \n",
        "!pip3 install konlpy JPype1-py3\n",
        "!bash <(curl -s https://raw.githubusercontent.com/konlpy/konlpy/master/scripts/mecab.sh)"
      ],
      "execution_count": null,
      "outputs": [
        {
          "output_type": "stream",
          "text": [
            "Hit:1 http://security.ubuntu.com/ubuntu bionic-security InRelease\n",
            "Ign:2 https://developer.download.nvidia.com/compute/cuda/repos/ubuntu1804/x86_64  InRelease\n",
            "Hit:3 https://cloud.r-project.org/bin/linux/ubuntu bionic-cran40/ InRelease\n",
            "Ign:4 https://developer.download.nvidia.com/compute/machine-learning/repos/ubuntu1804/x86_64  InRelease\n",
            "Hit:5 http://ppa.launchpad.net/c2d4u.team/c2d4u4.0+/ubuntu bionic InRelease\n",
            "Hit:6 https://developer.download.nvidia.com/compute/cuda/repos/ubuntu1804/x86_64  Release\n",
            "Hit:7 https://developer.download.nvidia.com/compute/machine-learning/repos/ubuntu1804/x86_64  Release\n",
            "Hit:8 http://archive.ubuntu.com/ubuntu bionic InRelease\n",
            "Hit:9 http://archive.ubuntu.com/ubuntu bionic-updates InRelease\n",
            "Hit:10 http://ppa.launchpad.net/graphics-drivers/ppa/ubuntu bionic InRelease\n",
            "Hit:11 http://archive.ubuntu.com/ubuntu bionic-backports InRelease\n",
            "Reading package lists... Done\n",
            "Reading package lists... Done\n",
            "Building dependency tree       \n",
            "Reading state information... Done\n",
            "g++ is already the newest version (4:7.4.0-1ubuntu2.3).\n",
            "openjdk-8-jdk is already the newest version (8u265-b01-0ubuntu2~18.04).\n",
            "0 upgraded, 0 newly installed, 0 to remove and 21 not upgraded.\n",
            "Requirement already satisfied: konlpy in /usr/local/lib/python3.6/dist-packages (0.5.2)\n",
            "Requirement already satisfied: JPype1-py3 in /usr/local/lib/python3.6/dist-packages (0.5.5.4)\n",
            "Requirement already satisfied: beautifulsoup4==4.6.0 in /usr/local/lib/python3.6/dist-packages (from konlpy) (4.6.0)\n",
            "Requirement already satisfied: tweepy>=3.7.0 in /usr/local/lib/python3.6/dist-packages (from konlpy) (3.9.0)\n",
            "Requirement already satisfied: numpy>=1.6 in /usr/local/lib/python3.6/dist-packages (from konlpy) (1.18.5)\n",
            "Requirement already satisfied: lxml>=4.1.0 in /usr/local/lib/python3.6/dist-packages (from konlpy) (4.2.6)\n",
            "Requirement already satisfied: colorama in /usr/local/lib/python3.6/dist-packages (from konlpy) (0.4.4)\n",
            "Requirement already satisfied: JPype1>=0.7.0 in /usr/local/lib/python3.6/dist-packages (from konlpy) (1.0.2)\n",
            "Requirement already satisfied: six>=1.10.0 in /usr/local/lib/python3.6/dist-packages (from tweepy>=3.7.0->konlpy) (1.15.0)\n",
            "Requirement already satisfied: requests[socks]>=2.11.1 in /usr/local/lib/python3.6/dist-packages (from tweepy>=3.7.0->konlpy) (2.23.0)\n",
            "Requirement already satisfied: requests-oauthlib>=0.7.0 in /usr/local/lib/python3.6/dist-packages (from tweepy>=3.7.0->konlpy) (1.3.0)\n",
            "Requirement already satisfied: typing-extensions; python_version < \"3.8\" in /usr/local/lib/python3.6/dist-packages (from JPype1>=0.7.0->konlpy) (3.7.4.3)\n",
            "Requirement already satisfied: chardet<4,>=3.0.2 in /usr/local/lib/python3.6/dist-packages (from requests[socks]>=2.11.1->tweepy>=3.7.0->konlpy) (3.0.4)\n",
            "Requirement already satisfied: certifi>=2017.4.17 in /usr/local/lib/python3.6/dist-packages (from requests[socks]>=2.11.1->tweepy>=3.7.0->konlpy) (2020.6.20)\n",
            "Requirement already satisfied: urllib3!=1.25.0,!=1.25.1,<1.26,>=1.21.1 in /usr/local/lib/python3.6/dist-packages (from requests[socks]>=2.11.1->tweepy>=3.7.0->konlpy) (1.24.3)\n",
            "Requirement already satisfied: idna<3,>=2.5 in /usr/local/lib/python3.6/dist-packages (from requests[socks]>=2.11.1->tweepy>=3.7.0->konlpy) (2.10)\n",
            "Requirement already satisfied: PySocks!=1.5.7,>=1.5.6; extra == \"socks\" in /usr/local/lib/python3.6/dist-packages (from requests[socks]>=2.11.1->tweepy>=3.7.0->konlpy) (1.7.1)\n",
            "Requirement already satisfied: oauthlib>=3.0.0 in /usr/local/lib/python3.6/dist-packages (from requests-oauthlib>=0.7.0->tweepy>=3.7.0->konlpy) (3.1.0)\n",
            "mecab-ko is already installed\n",
            "mecab-ko-dic is already installed\n",
            "mecab-python is already installed\n",
            "Done.\n"
          ],
          "name": "stdout"
        }
      ]
    },
    {
      "cell_type": "code",
      "metadata": {
        "id": "L9H-b6zQr7gW",
        "outputId": "d84a2417-3b37-4f6f-dd09-2dae654e4672",
        "colab": {
          "base_uri": "https://localhost:8080/",
          "height": 326
        }
      },
      "source": [
        "!pip install konlpy"
      ],
      "execution_count": null,
      "outputs": [
        {
          "output_type": "stream",
          "text": [
            "Requirement already satisfied: konlpy in /usr/local/lib/python3.6/dist-packages (0.5.2)\n",
            "Requirement already satisfied: lxml>=4.1.0 in /usr/local/lib/python3.6/dist-packages (from konlpy) (4.2.6)\n",
            "Requirement already satisfied: numpy>=1.6 in /usr/local/lib/python3.6/dist-packages (from konlpy) (1.18.5)\n",
            "Requirement already satisfied: tweepy>=3.7.0 in /usr/local/lib/python3.6/dist-packages (from konlpy) (3.9.0)\n",
            "Requirement already satisfied: colorama in /usr/local/lib/python3.6/dist-packages (from konlpy) (0.4.4)\n",
            "Requirement already satisfied: beautifulsoup4==4.6.0 in /usr/local/lib/python3.6/dist-packages (from konlpy) (4.6.0)\n",
            "Requirement already satisfied: JPype1>=0.7.0 in /usr/local/lib/python3.6/dist-packages (from konlpy) (1.0.2)\n",
            "Requirement already satisfied: six>=1.10.0 in /usr/local/lib/python3.6/dist-packages (from tweepy>=3.7.0->konlpy) (1.15.0)\n",
            "Requirement already satisfied: requests-oauthlib>=0.7.0 in /usr/local/lib/python3.6/dist-packages (from tweepy>=3.7.0->konlpy) (1.3.0)\n",
            "Requirement already satisfied: requests[socks]>=2.11.1 in /usr/local/lib/python3.6/dist-packages (from tweepy>=3.7.0->konlpy) (2.23.0)\n",
            "Requirement already satisfied: typing-extensions; python_version < \"3.8\" in /usr/local/lib/python3.6/dist-packages (from JPype1>=0.7.0->konlpy) (3.7.4.3)\n",
            "Requirement already satisfied: oauthlib>=3.0.0 in /usr/local/lib/python3.6/dist-packages (from requests-oauthlib>=0.7.0->tweepy>=3.7.0->konlpy) (3.1.0)\n",
            "Requirement already satisfied: certifi>=2017.4.17 in /usr/local/lib/python3.6/dist-packages (from requests[socks]>=2.11.1->tweepy>=3.7.0->konlpy) (2020.6.20)\n",
            "Requirement already satisfied: chardet<4,>=3.0.2 in /usr/local/lib/python3.6/dist-packages (from requests[socks]>=2.11.1->tweepy>=3.7.0->konlpy) (3.0.4)\n",
            "Requirement already satisfied: urllib3!=1.25.0,!=1.25.1,<1.26,>=1.21.1 in /usr/local/lib/python3.6/dist-packages (from requests[socks]>=2.11.1->tweepy>=3.7.0->konlpy) (1.24.3)\n",
            "Requirement already satisfied: idna<3,>=2.5 in /usr/local/lib/python3.6/dist-packages (from requests[socks]>=2.11.1->tweepy>=3.7.0->konlpy) (2.10)\n",
            "Requirement already satisfied: PySocks!=1.5.7,>=1.5.6; extra == \"socks\" in /usr/local/lib/python3.6/dist-packages (from requests[socks]>=2.11.1->tweepy>=3.7.0->konlpy) (1.7.1)\n"
          ],
          "name": "stdout"
        }
      ]
    },
    {
      "cell_type": "code",
      "metadata": {
        "id": "6syr7vaLr7d9"
      },
      "source": [
        "from konlpy.tag import Mecab\n",
        "import numpy as np\n",
        "import re\n",
        "import pandas as pd\n",
        "import csv\n",
        "from tensorflow.keras.preprocessing.text import Tokenizer\n",
        "from tensorflow.keras.preprocessing.sequence import pad_sequences"
      ],
      "execution_count": null,
      "outputs": []
    },
    {
      "cell_type": "code",
      "metadata": {
        "id": "Rt0pyzBtr7bl",
        "outputId": "834f86dc-5697-4932-a9ad-7b8b55b9fdd5",
        "colab": {
          "base_uri": "https://localhost:8080/",
          "height": 306
        }
      },
      "source": [
        "cafe_data = pd.read_excel(\"/content/drive/My Drive/Colab Notebooks/데이터/F 카페(7,859).xlsx\")\n",
        "cafe_data.head()"
      ],
      "execution_count": null,
      "outputs": [
        {
          "output_type": "execute_result",
          "data": {
            "text/html": [
              "<div>\n",
              "<style scoped>\n",
              "    .dataframe tbody tr th:only-of-type {\n",
              "        vertical-align: middle;\n",
              "    }\n",
              "\n",
              "    .dataframe tbody tr th {\n",
              "        vertical-align: top;\n",
              "    }\n",
              "\n",
              "    .dataframe thead th {\n",
              "        text-align: right;\n",
              "    }\n",
              "</style>\n",
              "<table border=\"1\" class=\"dataframe\">\n",
              "  <thead>\n",
              "    <tr style=\"text-align: right;\">\n",
              "      <th></th>\n",
              "      <th>SPEAKER</th>\n",
              "      <th>SENTENCE</th>\n",
              "      <th>DATAID</th>\n",
              "      <th>DOMAINID</th>\n",
              "      <th>DOMAIN</th>\n",
              "      <th>CATEGORY</th>\n",
              "      <th>SPEAKERID</th>\n",
              "      <th>SENTENCEID</th>\n",
              "      <th>MAIN</th>\n",
              "      <th>SUB</th>\n",
              "      <th>QA</th>\n",
              "      <th>QACNCT</th>\n",
              "      <th>MQ</th>\n",
              "      <th>SQ</th>\n",
              "      <th>UA</th>\n",
              "      <th>SA</th>\n",
              "      <th>개체명</th>\n",
              "      <th>용어사전</th>\n",
              "      <th>지식베이스</th>\n",
              "    </tr>\n",
              "  </thead>\n",
              "  <tbody>\n",
              "    <tr>\n",
              "      <th>0</th>\n",
              "      <td>고객</td>\n",
              "      <td>아이스아메리카노 하나요</td>\n",
              "      <td>16334604</td>\n",
              "      <td>F</td>\n",
              "      <td>카페</td>\n",
              "      <td>카페</td>\n",
              "      <td>1</td>\n",
              "      <td>1</td>\n",
              "      <td>일반주문</td>\n",
              "      <td>NaN</td>\n",
              "      <td>Q</td>\n",
              "      <td>NaN</td>\n",
              "      <td>아이스 아메리카노 하나요</td>\n",
              "      <td>NaN</td>\n",
              "      <td>NaN</td>\n",
              "      <td>NaN</td>\n",
              "      <td>아이스 아메리카노, 하나</td>\n",
              "      <td>NaN</td>\n",
              "      <td>NaN</td>\n",
              "    </tr>\n",
              "    <tr>\n",
              "      <th>1</th>\n",
              "      <td>점원</td>\n",
              "      <td>테이크아웃하실 건가요?</td>\n",
              "      <td>16334604</td>\n",
              "      <td>F</td>\n",
              "      <td>카페</td>\n",
              "      <td>카페</td>\n",
              "      <td>0</td>\n",
              "      <td>2</td>\n",
              "      <td>일반주문</td>\n",
              "      <td>테이크아웃여부</td>\n",
              "      <td>Q</td>\n",
              "      <td>NaN</td>\n",
              "      <td>NaN</td>\n",
              "      <td>테이크아웃하실 건가요?</td>\n",
              "      <td>NaN</td>\n",
              "      <td>NaN</td>\n",
              "      <td>테이크아웃</td>\n",
              "      <td>NaN</td>\n",
              "      <td>NaN</td>\n",
              "    </tr>\n",
              "    <tr>\n",
              "      <th>2</th>\n",
              "      <td>고객</td>\n",
              "      <td>네 텀블러에 넣어주세요</td>\n",
              "      <td>16334604</td>\n",
              "      <td>F</td>\n",
              "      <td>카페</td>\n",
              "      <td>카페</td>\n",
              "      <td>1</td>\n",
              "      <td>3</td>\n",
              "      <td>텀블러사용</td>\n",
              "      <td>NaN</td>\n",
              "      <td>Q</td>\n",
              "      <td>NaN</td>\n",
              "      <td>네 텀블러에 넣어주세요</td>\n",
              "      <td>NaN</td>\n",
              "      <td>NaN</td>\n",
              "      <td>NaN</td>\n",
              "      <td>텀블러</td>\n",
              "      <td>NaN</td>\n",
              "      <td>NaN</td>\n",
              "    </tr>\n",
              "    <tr>\n",
              "      <th>3</th>\n",
              "      <td>점원</td>\n",
              "      <td>텀블러 할인 300원 해드릴게요</td>\n",
              "      <td>16334604</td>\n",
              "      <td>F</td>\n",
              "      <td>카페</td>\n",
              "      <td>카페</td>\n",
              "      <td>0</td>\n",
              "      <td>4</td>\n",
              "      <td>텀블러사용</td>\n",
              "      <td>NaN</td>\n",
              "      <td>A</td>\n",
              "      <td>NaN</td>\n",
              "      <td>NaN</td>\n",
              "      <td>NaN</td>\n",
              "      <td>NaN</td>\n",
              "      <td>텀블러 할인 300원 해드릴게요</td>\n",
              "      <td>텀블러, 할인, 300원</td>\n",
              "      <td>NaN</td>\n",
              "      <td>NaN</td>\n",
              "    </tr>\n",
              "    <tr>\n",
              "      <th>4</th>\n",
              "      <td>고객</td>\n",
              "      <td>그란데 사이즈로 주세요</td>\n",
              "      <td>16334604</td>\n",
              "      <td>F</td>\n",
              "      <td>카페</td>\n",
              "      <td>카페</td>\n",
              "      <td>1</td>\n",
              "      <td>5</td>\n",
              "      <td>일반주문</td>\n",
              "      <td>NaN</td>\n",
              "      <td>Q</td>\n",
              "      <td>NaN</td>\n",
              "      <td>그란데 사이즈로 주세요</td>\n",
              "      <td>NaN</td>\n",
              "      <td>NaN</td>\n",
              "      <td>NaN</td>\n",
              "      <td>그란데 사이즈</td>\n",
              "      <td>NaN</td>\n",
              "      <td>NaN</td>\n",
              "    </tr>\n",
              "  </tbody>\n",
              "</table>\n",
              "</div>"
            ],
            "text/plain": [
              "  SPEAKER           SENTENCE    DATAID  ...            개체명 용어사전 지식베이스\n",
              "0      고객       아이스아메리카노 하나요  16334604  ...  아이스 아메리카노, 하나  NaN   NaN\n",
              "1      점원       테이크아웃하실 건가요?  16334604  ...          테이크아웃  NaN   NaN\n",
              "2      고객       네 텀블러에 넣어주세요  16334604  ...            텀블러  NaN   NaN\n",
              "3      점원  텀블러 할인 300원 해드릴게요  16334604  ...  텀블러, 할인, 300원  NaN   NaN\n",
              "4      고객       그란데 사이즈로 주세요  16334604  ...        그란데 사이즈  NaN   NaN\n",
              "\n",
              "[5 rows x 19 columns]"
            ]
          },
          "metadata": {
            "tags": []
          },
          "execution_count": 28
        }
      ]
    },
    {
      "cell_type": "code",
      "metadata": {
        "id": "i3pTTUQtr7Ts",
        "outputId": "52d253d3-2160-47a4-f8cc-03bcb0bb1855",
        "colab": {
          "base_uri": "https://localhost:8080/",
          "height": 306
        }
      },
      "source": [
        "# 단어 아니면 삭제\n",
        "cafe_data['SENTENCE'] = cafe_data['SENTENCE'].str.replace(\"[^\\w]|br\", \" \")\n",
        "# cafe_data['text'] = cafe_data['text'].str.replace(\"[^\\w]|br\", \" \")\n",
        "cafe_data.head()\n",
        "# cafe_data.tail()"
      ],
      "execution_count": null,
      "outputs": [
        {
          "output_type": "execute_result",
          "data": {
            "text/html": [
              "<div>\n",
              "<style scoped>\n",
              "    .dataframe tbody tr th:only-of-type {\n",
              "        vertical-align: middle;\n",
              "    }\n",
              "\n",
              "    .dataframe tbody tr th {\n",
              "        vertical-align: top;\n",
              "    }\n",
              "\n",
              "    .dataframe thead th {\n",
              "        text-align: right;\n",
              "    }\n",
              "</style>\n",
              "<table border=\"1\" class=\"dataframe\">\n",
              "  <thead>\n",
              "    <tr style=\"text-align: right;\">\n",
              "      <th></th>\n",
              "      <th>SPEAKER</th>\n",
              "      <th>SENTENCE</th>\n",
              "      <th>DATAID</th>\n",
              "      <th>DOMAINID</th>\n",
              "      <th>DOMAIN</th>\n",
              "      <th>CATEGORY</th>\n",
              "      <th>SPEAKERID</th>\n",
              "      <th>SENTENCEID</th>\n",
              "      <th>MAIN</th>\n",
              "      <th>SUB</th>\n",
              "      <th>QA</th>\n",
              "      <th>QACNCT</th>\n",
              "      <th>MQ</th>\n",
              "      <th>SQ</th>\n",
              "      <th>UA</th>\n",
              "      <th>SA</th>\n",
              "      <th>개체명</th>\n",
              "      <th>용어사전</th>\n",
              "      <th>지식베이스</th>\n",
              "    </tr>\n",
              "  </thead>\n",
              "  <tbody>\n",
              "    <tr>\n",
              "      <th>0</th>\n",
              "      <td>고객</td>\n",
              "      <td>아이스아메리카노 하나요</td>\n",
              "      <td>16334604</td>\n",
              "      <td>F</td>\n",
              "      <td>카페</td>\n",
              "      <td>카페</td>\n",
              "      <td>1</td>\n",
              "      <td>1</td>\n",
              "      <td>일반주문</td>\n",
              "      <td>NaN</td>\n",
              "      <td>Q</td>\n",
              "      <td>NaN</td>\n",
              "      <td>아이스 아메리카노 하나요</td>\n",
              "      <td>NaN</td>\n",
              "      <td>NaN</td>\n",
              "      <td>NaN</td>\n",
              "      <td>아이스 아메리카노, 하나</td>\n",
              "      <td>NaN</td>\n",
              "      <td>NaN</td>\n",
              "    </tr>\n",
              "    <tr>\n",
              "      <th>1</th>\n",
              "      <td>점원</td>\n",
              "      <td>테이크아웃하실 건가요</td>\n",
              "      <td>16334604</td>\n",
              "      <td>F</td>\n",
              "      <td>카페</td>\n",
              "      <td>카페</td>\n",
              "      <td>0</td>\n",
              "      <td>2</td>\n",
              "      <td>일반주문</td>\n",
              "      <td>테이크아웃여부</td>\n",
              "      <td>Q</td>\n",
              "      <td>NaN</td>\n",
              "      <td>NaN</td>\n",
              "      <td>테이크아웃하실 건가요?</td>\n",
              "      <td>NaN</td>\n",
              "      <td>NaN</td>\n",
              "      <td>테이크아웃</td>\n",
              "      <td>NaN</td>\n",
              "      <td>NaN</td>\n",
              "    </tr>\n",
              "    <tr>\n",
              "      <th>2</th>\n",
              "      <td>고객</td>\n",
              "      <td>네 텀블러에 넣어주세요</td>\n",
              "      <td>16334604</td>\n",
              "      <td>F</td>\n",
              "      <td>카페</td>\n",
              "      <td>카페</td>\n",
              "      <td>1</td>\n",
              "      <td>3</td>\n",
              "      <td>텀블러사용</td>\n",
              "      <td>NaN</td>\n",
              "      <td>Q</td>\n",
              "      <td>NaN</td>\n",
              "      <td>네 텀블러에 넣어주세요</td>\n",
              "      <td>NaN</td>\n",
              "      <td>NaN</td>\n",
              "      <td>NaN</td>\n",
              "      <td>텀블러</td>\n",
              "      <td>NaN</td>\n",
              "      <td>NaN</td>\n",
              "    </tr>\n",
              "    <tr>\n",
              "      <th>3</th>\n",
              "      <td>점원</td>\n",
              "      <td>텀블러 할인 300원 해드릴게요</td>\n",
              "      <td>16334604</td>\n",
              "      <td>F</td>\n",
              "      <td>카페</td>\n",
              "      <td>카페</td>\n",
              "      <td>0</td>\n",
              "      <td>4</td>\n",
              "      <td>텀블러사용</td>\n",
              "      <td>NaN</td>\n",
              "      <td>A</td>\n",
              "      <td>NaN</td>\n",
              "      <td>NaN</td>\n",
              "      <td>NaN</td>\n",
              "      <td>NaN</td>\n",
              "      <td>텀블러 할인 300원 해드릴게요</td>\n",
              "      <td>텀블러, 할인, 300원</td>\n",
              "      <td>NaN</td>\n",
              "      <td>NaN</td>\n",
              "    </tr>\n",
              "    <tr>\n",
              "      <th>4</th>\n",
              "      <td>고객</td>\n",
              "      <td>그란데 사이즈로 주세요</td>\n",
              "      <td>16334604</td>\n",
              "      <td>F</td>\n",
              "      <td>카페</td>\n",
              "      <td>카페</td>\n",
              "      <td>1</td>\n",
              "      <td>5</td>\n",
              "      <td>일반주문</td>\n",
              "      <td>NaN</td>\n",
              "      <td>Q</td>\n",
              "      <td>NaN</td>\n",
              "      <td>그란데 사이즈로 주세요</td>\n",
              "      <td>NaN</td>\n",
              "      <td>NaN</td>\n",
              "      <td>NaN</td>\n",
              "      <td>그란데 사이즈</td>\n",
              "      <td>NaN</td>\n",
              "      <td>NaN</td>\n",
              "    </tr>\n",
              "  </tbody>\n",
              "</table>\n",
              "</div>"
            ],
            "text/plain": [
              "  SPEAKER           SENTENCE    DATAID  ...            개체명 용어사전 지식베이스\n",
              "0      고객       아이스아메리카노 하나요  16334604  ...  아이스 아메리카노, 하나  NaN   NaN\n",
              "1      점원       테이크아웃하실 건가요   16334604  ...          테이크아웃  NaN   NaN\n",
              "2      고객       네 텀블러에 넣어주세요  16334604  ...            텀블러  NaN   NaN\n",
              "3      점원  텀블러 할인 300원 해드릴게요  16334604  ...  텀블러, 할인, 300원  NaN   NaN\n",
              "4      고객       그란데 사이즈로 주세요  16334604  ...        그란데 사이즈  NaN   NaN\n",
              "\n",
              "[5 rows x 19 columns]"
            ]
          },
          "metadata": {
            "tags": []
          },
          "execution_count": 29
        }
      ]
    },
    {
      "cell_type": "code",
      "metadata": {
        "id": "PU5H18nkr7RP"
      },
      "source": [
        "pre_cafe_data = cafe_data.loc[0:6673,[\"SPEAKER\",\"SENTENCE\"]]"
      ],
      "execution_count": null,
      "outputs": []
    },
    {
      "cell_type": "code",
      "metadata": {
        "id": "5vyI6TZTr7Gm",
        "outputId": "214cded7-78b9-4001-ed49-12e6851397c3",
        "colab": {
          "base_uri": "https://localhost:8080/",
          "height": 204
        }
      },
      "source": [
        "pre_cafe_data.head()"
      ],
      "execution_count": null,
      "outputs": [
        {
          "output_type": "execute_result",
          "data": {
            "text/html": [
              "<div>\n",
              "<style scoped>\n",
              "    .dataframe tbody tr th:only-of-type {\n",
              "        vertical-align: middle;\n",
              "    }\n",
              "\n",
              "    .dataframe tbody tr th {\n",
              "        vertical-align: top;\n",
              "    }\n",
              "\n",
              "    .dataframe thead th {\n",
              "        text-align: right;\n",
              "    }\n",
              "</style>\n",
              "<table border=\"1\" class=\"dataframe\">\n",
              "  <thead>\n",
              "    <tr style=\"text-align: right;\">\n",
              "      <th></th>\n",
              "      <th>SPEAKER</th>\n",
              "      <th>SENTENCE</th>\n",
              "    </tr>\n",
              "  </thead>\n",
              "  <tbody>\n",
              "    <tr>\n",
              "      <th>0</th>\n",
              "      <td>고객</td>\n",
              "      <td>아이스아메리카노 하나요</td>\n",
              "    </tr>\n",
              "    <tr>\n",
              "      <th>1</th>\n",
              "      <td>점원</td>\n",
              "      <td>테이크아웃하실 건가요</td>\n",
              "    </tr>\n",
              "    <tr>\n",
              "      <th>2</th>\n",
              "      <td>고객</td>\n",
              "      <td>네 텀블러에 넣어주세요</td>\n",
              "    </tr>\n",
              "    <tr>\n",
              "      <th>3</th>\n",
              "      <td>점원</td>\n",
              "      <td>텀블러 할인 300원 해드릴게요</td>\n",
              "    </tr>\n",
              "    <tr>\n",
              "      <th>4</th>\n",
              "      <td>고객</td>\n",
              "      <td>그란데 사이즈로 주세요</td>\n",
              "    </tr>\n",
              "  </tbody>\n",
              "</table>\n",
              "</div>"
            ],
            "text/plain": [
              "  SPEAKER           SENTENCE\n",
              "0      고객       아이스아메리카노 하나요\n",
              "1      점원       테이크아웃하실 건가요 \n",
              "2      고객       네 텀블러에 넣어주세요\n",
              "3      점원  텀블러 할인 300원 해드릴게요\n",
              "4      고객       그란데 사이즈로 주세요"
            ]
          },
          "metadata": {
            "tags": []
          },
          "execution_count": 31
        }
      ]
    },
    {
      "cell_type": "code",
      "metadata": {
        "id": "zkHg5l7JjgLM",
        "outputId": "4219a49b-04a4-4b1e-986a-58ff6af81bfc",
        "colab": {
          "base_uri": "https://localhost:8080/",
          "height": 34
        }
      },
      "source": [
        "len(pre_cafe_data[pre_cafe_data[\"SPEAKER\"]==\"고객\"]), len(pre_cafe_data[pre_cafe_data[\"SPEAKER\"]==\"점원\"])"
      ],
      "execution_count": null,
      "outputs": [
        {
          "output_type": "execute_result",
          "data": {
            "text/plain": [
              "(3337, 3337)"
            ]
          },
          "metadata": {
            "tags": []
          },
          "execution_count": 32
        }
      ]
    },
    {
      "cell_type": "code",
      "metadata": {
        "id": "NZYWDnRvLBWW",
        "outputId": "9ab26e72-f387-40b3-f192-fcb8d4ad599e",
        "colab": {
          "base_uri": "https://localhost:8080/",
          "height": 442
        }
      },
      "source": [
        "# 점원과 고객이 한말 두개 따로 나누기.\n",
        "# Q and A 형식으로 dataframe 만들기.\n",
        "\n",
        "user = pre_cafe_data[pre_cafe_data[\"SPEAKER\"] == \"고객\"][\"SENTENCE\"]\n",
        "service = pre_cafe_data[pre_cafe_data[\"SPEAKER\"] == \"점원\"][\"SENTENCE\"]\n",
        "display(user)\n",
        "display(service)\n",
        "print(type(user))"
      ],
      "execution_count": null,
      "outputs": [
        {
          "output_type": "display_data",
          "data": {
            "text/plain": [
              "0           아이스아메리카노 하나요\n",
              "2           네 텀블러에 넣어주세요\n",
              "4           그란데 사이즈로 주세요\n",
              "6         네 보고쿠폰으로 결제할게요\n",
              "8                  괜찮습니다\n",
              "              ...       \n",
              "6664        비엔나는 어떤 거에요 \n",
              "6666    카페라떼 아이스로 하나 주세요\n",
              "6668     네 얼음은 조금만 넣어주세요\n",
              "6670         원래하던데로 해주세요\n",
              "6672        주차장은 앞에 있나요 \n",
              "Name: SENTENCE, Length: 3337, dtype: object"
            ]
          },
          "metadata": {
            "tags": []
          }
        },
        {
          "output_type": "display_data",
          "data": {
            "text/plain": [
              "1            테이크아웃하실 건가요 \n",
              "3       텀블러 할인 300원 해드릴게요\n",
              "5              적립카드 있으세요 \n",
              "7            현금영수증 해드릴까요 \n",
              "9         저쪽에서 잠시만 대기해주세요\n",
              "              ...        \n",
              "6665     아메리카노에 휘핑 들어갔습니다\n",
              "6667         가지고 가시는 거에요 \n",
              "6669         샷 더 넣어 드릴까요 \n",
              "6671    연하다 싶으면 더 넣어 드릴게요\n",
              "6673        주차장은 뒤에도 있습니다\n",
              "Name: SENTENCE, Length: 3337, dtype: object"
            ]
          },
          "metadata": {
            "tags": []
          }
        },
        {
          "output_type": "stream",
          "text": [
            "<class 'pandas.core.series.Series'>\n"
          ],
          "name": "stdout"
        }
      ]
    },
    {
      "cell_type": "code",
      "metadata": {
        "id": "lMVKvptqeQM5"
      },
      "source": [
        "user.name=\"user\"\n",
        "service.name=\"service\""
      ],
      "execution_count": null,
      "outputs": []
    },
    {
      "cell_type": "code",
      "metadata": {
        "id": "AVoj5p9-LBi3",
        "outputId": "2973ac93-510f-4bbe-f7d2-c735d267d6ba",
        "colab": {
          "base_uri": "https://localhost:8080/",
          "height": 419
        }
      },
      "source": [
        "service = pd.DataFrame(service).reset_index(drop=True)\n",
        "user = pd.DataFrame(user).reset_index(drop=True)\n",
        "result_data = pd.concat([user, service], axis=1)\n",
        "result_data"
      ],
      "execution_count": null,
      "outputs": [
        {
          "output_type": "execute_result",
          "data": {
            "text/html": [
              "<div>\n",
              "<style scoped>\n",
              "    .dataframe tbody tr th:only-of-type {\n",
              "        vertical-align: middle;\n",
              "    }\n",
              "\n",
              "    .dataframe tbody tr th {\n",
              "        vertical-align: top;\n",
              "    }\n",
              "\n",
              "    .dataframe thead th {\n",
              "        text-align: right;\n",
              "    }\n",
              "</style>\n",
              "<table border=\"1\" class=\"dataframe\">\n",
              "  <thead>\n",
              "    <tr style=\"text-align: right;\">\n",
              "      <th></th>\n",
              "      <th>user</th>\n",
              "      <th>service</th>\n",
              "    </tr>\n",
              "  </thead>\n",
              "  <tbody>\n",
              "    <tr>\n",
              "      <th>0</th>\n",
              "      <td>아이스아메리카노 하나요</td>\n",
              "      <td>테이크아웃하실 건가요</td>\n",
              "    </tr>\n",
              "    <tr>\n",
              "      <th>1</th>\n",
              "      <td>네 텀블러에 넣어주세요</td>\n",
              "      <td>텀블러 할인 300원 해드릴게요</td>\n",
              "    </tr>\n",
              "    <tr>\n",
              "      <th>2</th>\n",
              "      <td>그란데 사이즈로 주세요</td>\n",
              "      <td>적립카드 있으세요</td>\n",
              "    </tr>\n",
              "    <tr>\n",
              "      <th>3</th>\n",
              "      <td>네 보고쿠폰으로 결제할게요</td>\n",
              "      <td>현금영수증 해드릴까요</td>\n",
              "    </tr>\n",
              "    <tr>\n",
              "      <th>4</th>\n",
              "      <td>괜찮습니다</td>\n",
              "      <td>저쪽에서 잠시만 대기해주세요</td>\n",
              "    </tr>\n",
              "    <tr>\n",
              "      <th>...</th>\n",
              "      <td>...</td>\n",
              "      <td>...</td>\n",
              "    </tr>\n",
              "    <tr>\n",
              "      <th>3332</th>\n",
              "      <td>비엔나는 어떤 거에요</td>\n",
              "      <td>아메리카노에 휘핑 들어갔습니다</td>\n",
              "    </tr>\n",
              "    <tr>\n",
              "      <th>3333</th>\n",
              "      <td>카페라떼 아이스로 하나 주세요</td>\n",
              "      <td>가지고 가시는 거에요</td>\n",
              "    </tr>\n",
              "    <tr>\n",
              "      <th>3334</th>\n",
              "      <td>네 얼음은 조금만 넣어주세요</td>\n",
              "      <td>샷 더 넣어 드릴까요</td>\n",
              "    </tr>\n",
              "    <tr>\n",
              "      <th>3335</th>\n",
              "      <td>원래하던데로 해주세요</td>\n",
              "      <td>연하다 싶으면 더 넣어 드릴게요</td>\n",
              "    </tr>\n",
              "    <tr>\n",
              "      <th>3336</th>\n",
              "      <td>주차장은 앞에 있나요</td>\n",
              "      <td>주차장은 뒤에도 있습니다</td>\n",
              "    </tr>\n",
              "  </tbody>\n",
              "</table>\n",
              "<p>3337 rows × 2 columns</p>\n",
              "</div>"
            ],
            "text/plain": [
              "                  user            service\n",
              "0         아이스아메리카노 하나요       테이크아웃하실 건가요 \n",
              "1         네 텀블러에 넣어주세요  텀블러 할인 300원 해드릴게요\n",
              "2         그란데 사이즈로 주세요         적립카드 있으세요 \n",
              "3       네 보고쿠폰으로 결제할게요       현금영수증 해드릴까요 \n",
              "4                괜찮습니다    저쪽에서 잠시만 대기해주세요\n",
              "...                ...                ...\n",
              "3332      비엔나는 어떤 거에요    아메리카노에 휘핑 들어갔습니다\n",
              "3333  카페라떼 아이스로 하나 주세요       가지고 가시는 거에요 \n",
              "3334   네 얼음은 조금만 넣어주세요       샷 더 넣어 드릴까요 \n",
              "3335       원래하던데로 해주세요  연하다 싶으면 더 넣어 드릴게요\n",
              "3336      주차장은 앞에 있나요       주차장은 뒤에도 있습니다\n",
              "\n",
              "[3337 rows x 2 columns]"
            ]
          },
          "metadata": {
            "tags": []
          },
          "execution_count": 35
        }
      ]
    },
    {
      "cell_type": "code",
      "metadata": {
        "id": "KBK_8zb6sJbF"
      },
      "source": [
        "# 데이터 길이 자체가 짧기 때문에 그냥 split을 활용해도 충분할거 같은 느낌..?\n",
        "\n",
        "encoder_input = []\n",
        "for line in result_data[\"user\"]:\n",
        "    token = []\n",
        "    words = line.split()\n",
        "    for word in words:\n",
        "        token.append(word)\n",
        "    encoder_input.append(token)\n",
        "\n",
        "# print(len(encoder_input))\n",
        "\n",
        "decoder_input = []\n",
        "for line in result_data[\"service\"]:\n",
        "    token = []\n",
        "    words = line.split()\n",
        "    for word in words:\n",
        "        token.append(word)\n",
        "    token.insert(0, \"<start>\")\n",
        "    decoder_input.append(token)\n",
        "# print(len(decoder_input))\n",
        "\n",
        "decoder_output = []\n",
        "for line in result_data[\"service\"]:\n",
        "    token=[]\n",
        "    words = line.split()\n",
        "    for word in words:\n",
        "        token.append(word)\n",
        "    token.append(\"<end>\")\n",
        "    decoder_output.append(token)\n",
        "\n",
        "# print(len(decoder_output))"
      ],
      "execution_count": null,
      "outputs": []
    },
    {
      "cell_type": "code",
      "metadata": {
        "id": "Pfg6YH9yLB2O",
        "outputId": "352490a9-8c45-48a4-af7a-52d1299d17f0",
        "colab": {
          "base_uri": "https://localhost:8080/",
          "height": 88
        }
      },
      "source": [
        "print(encoder_input[:3])\n",
        "print(decoder_input[:3])\n",
        "print(decoder_output[:3])"
      ],
      "execution_count": null,
      "outputs": [
        {
          "output_type": "stream",
          "text": [
            "[['아이스아메리카노', '하나요'], ['네', '텀블러에', '넣어주세요'], ['그란데', '사이즈로', '주세요']]\n",
            "[['<start>', '테이크아웃하실', '건가요'], ['<start>', '텀블러', '할인', '300원', '해드릴게요'], ['<start>', '적립카드', '있으세요']]\n",
            "[['테이크아웃하실', '건가요', '<end>'], ['텀블러', '할인', '300원', '해드릴게요', '<end>'], ['적립카드', '있으세요', '<end>']]\n"
          ],
          "name": "stdout"
        }
      ]
    },
    {
      "cell_type": "code",
      "metadata": {
        "id": "tcJyUJ_VLBwX",
        "outputId": "8cfe8667-5374-4109-ee70-c5a953827c13",
        "colab": {
          "base_uri": "https://localhost:8080/",
          "height": 85
        }
      },
      "source": [
        "tokenizer_text = Tokenizer()\n",
        "tokenizer_text.fit_on_texts(encoder_input)\n",
        "encoder_input = tokenizer_text.texts_to_sequences(encoder_input)\n",
        "\n",
        "tokenizer_title = Tokenizer()\n",
        "tokenizer_title.fit_on_texts(decoder_input)\n",
        "tokenizer_title.fit_on_texts(decoder_output)\n",
        "decoder_input = tokenizer_title.texts_to_sequences(decoder_input)\n",
        "decoder_output = tokenizer_title.texts_to_sequences(decoder_output)\n",
        "\n",
        "print(len(encoder_input))\n",
        "print(encoder_input[:3])\n",
        "print(decoder_input[:3])\n",
        "print(decoder_output[:3])"
      ],
      "execution_count": null,
      "outputs": [
        {
          "output_type": "stream",
          "text": [
            "3337\n",
            "[[751, 55], [2, 97, 39], [253, 37, 1]]\n",
            "[[1, 874, 60], [1, 169, 62, 300, 185], [1, 482, 76]]\n",
            "[[874, 60, 2], [169, 62, 300, 185, 2], [482, 76, 2]]\n"
          ],
          "name": "stdout"
        }
      ]
    },
    {
      "cell_type": "code",
      "metadata": {
        "id": "Vr7XzkQPLBoN"
      },
      "source": [
        "encoder_input = pad_sequences(encoder_input, padding=\"post\")\n",
        "decoder_input = pad_sequences(decoder_input, padding=\"post\")\n",
        "decoder_output = pad_sequences(decoder_output, padding=\"post\")"
      ],
      "execution_count": null,
      "outputs": []
    },
    {
      "cell_type": "code",
      "metadata": {
        "id": "307qWuxMLBbS"
      },
      "source": [
        "title_to_index = tokenizer_title.word_index\n",
        "index_to_title = tokenizer_title.index_word"
      ],
      "execution_count": null,
      "outputs": []
    },
    {
      "cell_type": "code",
      "metadata": {
        "id": "9UQeDW6BLBDZ",
        "outputId": "e2390879-c881-4923-9aeb-3d9692242a43",
        "colab": {
          "base_uri": "https://localhost:8080/",
          "height": 119
        }
      },
      "source": [
        "print(encoder_input.shape)\n",
        "print(decoder_input.shape)\n",
        "print(decoder_output.shape)\n",
        "\n",
        "print(len(encoder_input))\n",
        "print(len(decoder_input))\n",
        "print(len(decoder_output))"
      ],
      "execution_count": null,
      "outputs": [
        {
          "output_type": "stream",
          "text": [
            "(3337, 14)\n",
            "(3337, 19)\n",
            "(3337, 19)\n",
            "3337\n",
            "3337\n",
            "3337\n"
          ],
          "name": "stdout"
        }
      ]
    },
    {
      "cell_type": "code",
      "metadata": {
        "id": "40Ea9mtKyfy1"
      },
      "source": [
        "test_size = 800\n",
        "encoder_input_train = encoder_input[ :-test_size]\n",
        "decoder_input_train = decoder_input[ :-test_size]\n",
        "decoder_output_train = decoder_output[ :-test_size]\n",
        "\n",
        "encoder_input_test = encoder_input[test_size: ]\n",
        "decoder_input_test = decoder_input[test_size: ]\n",
        "decoder_output_test = decoder_output[test_size: ]"
      ],
      "execution_count": null,
      "outputs": []
    },
    {
      "cell_type": "code",
      "metadata": {
        "id": "8pOoBy87yf3t"
      },
      "source": [
        "from tensorflow.keras.layers import Input, LSTM, Embedding, Dense, Masking, Concatenate\n",
        "from tensorflow.keras.models import Model"
      ],
      "execution_count": null,
      "outputs": []
    },
    {
      "cell_type": "code",
      "metadata": {
        "id": "l2kF2Nm2yf_H"
      },
      "source": [
        "encoder_inputs = Input(shape=(14,))\n",
        "encoder_embed = Embedding(len(tokenizer_text.word_index)+1, 120)(encoder_inputs)\n",
        "encoder_mask = Masking(mask_value=0)(encoder_embed)\n",
        "encoder_outputs, h_state, c_state = LSTM(120, return_sequences=True, return_state=True)(encoder_mask)"
      ],
      "execution_count": null,
      "outputs": []
    },
    {
      "cell_type": "code",
      "metadata": {
        "id": "nqHX8ij8ygD8"
      },
      "source": [
        "decoder_inputs = Input(shape=(20,))\n",
        "decoder_embed = Embedding(len(tokenizer_title.word_index)+1, 120)(decoder_inputs)\n",
        "decoder_mask = Masking(mask_value=0)(decoder_embed)\n",
        "decoder_lstm = LSTM(120, return_sequences=True, return_state=True)\n",
        "decoder_outputs, _, _ = decoder_lstm(decoder_mask, initial_state=[h_state, c_state])"
      ],
      "execution_count": null,
      "outputs": []
    },
    {
      "cell_type": "code",
      "metadata": {
        "id": "kNvlcYiWygGu"
      },
      "source": [
        "from attention import AttentionLayer\n",
        "attn_layer = AttentionLayer()\n",
        "attn_out, attn_states = attn_layer([encoder_outputs, decoder_outputs])\n",
        "\n",
        "decoder_concat_input = Concatenate()([decoder_outputs, attn_out])\n",
        "\n",
        "decoder_dense = Dense(len(tokenizer_title.word_index)+1, activation= 'softmax')\n",
        "decoder_softmax_outputs = decoder_dense(decoder_concat_input)"
      ],
      "execution_count": null,
      "outputs": []
    },
    {
      "cell_type": "code",
      "metadata": {
        "id": "iOHk9PoYygB_",
        "outputId": "6464710d-e3f9-4e7b-d9d1-65ef187361c0",
        "colab": {
          "base_uri": "https://localhost:8080/",
          "height": 1000
        }
      },
      "source": [
        "model = Model([encoder_inputs, decoder_inputs], decoder_softmax_outputs)\n",
        "model.compile(optimizer='rmsprop', loss='sparse_categorical_crossentropy', metrics=['acc'])\n",
        "model.fit(x=[encoder_input_train, decoder_input_train],\n",
        "          y=decoder_output_train,\n",
        "          validation_data=([encoder_input_test, decoder_input_test], decoder_output_test),\n",
        "          batch_size=128, epochs=50)"
      ],
      "execution_count": null,
      "outputs": [
        {
          "output_type": "stream",
          "text": [
            "Epoch 1/50\n",
            "WARNING:tensorflow:Model was constructed with shape (None, 19) for input Tensor(\"input_1:0\", shape=(None, 19), dtype=float32), but it was called on an input with incompatible shape (None, 14).\n",
            "WARNING:tensorflow:Model was constructed with shape (None, 20) for input Tensor(\"input_3:0\", shape=(None, 20), dtype=float32), but it was called on an input with incompatible shape (None, 19).\n",
            "WARNING:tensorflow:Model was constructed with shape (None, 19) for input Tensor(\"input_1:0\", shape=(None, 19), dtype=float32), but it was called on an input with incompatible shape (None, 14).\n",
            "WARNING:tensorflow:Model was constructed with shape (None, 20) for input Tensor(\"input_3:0\", shape=(None, 20), dtype=float32), but it was called on an input with incompatible shape (None, 19).\n",
            "20/20 [==============================] - ETA: 0s - loss: 3.6340 - acc: 0.7051WARNING:tensorflow:Model was constructed with shape (None, 19) for input Tensor(\"input_1:0\", shape=(None, 19), dtype=float32), but it was called on an input with incompatible shape (None, 14).\n",
            "WARNING:tensorflow:Model was constructed with shape (None, 20) for input Tensor(\"input_3:0\", shape=(None, 20), dtype=float32), but it was called on an input with incompatible shape (None, 19).\n",
            "20/20 [==============================] - 24s 1s/step - loss: 3.6340 - acc: 0.7051 - val_loss: 1.9054 - val_acc: 0.7272\n",
            "Epoch 2/50\n",
            "20/20 [==============================] - 21s 1s/step - loss: 1.7189 - acc: 0.7594 - val_loss: 1.8305 - val_acc: 0.7525\n",
            "Epoch 3/50\n",
            "20/20 [==============================] - 22s 1s/step - loss: 1.6233 - acc: 0.7739 - val_loss: 1.7269 - val_acc: 0.7742\n",
            "Epoch 4/50\n",
            "20/20 [==============================] - 21s 1s/step - loss: 1.5199 - acc: 0.7918 - val_loss: 1.6692 - val_acc: 0.7934\n",
            "Epoch 5/50\n",
            "20/20 [==============================] - 21s 1s/step - loss: 1.4548 - acc: 0.8074 - val_loss: 1.6423 - val_acc: 0.7931\n",
            "Epoch 6/50\n",
            "20/20 [==============================] - 21s 1s/step - loss: 1.4067 - acc: 0.8114 - val_loss: 1.5984 - val_acc: 0.7960\n",
            "Epoch 7/50\n",
            "20/20 [==============================] - 22s 1s/step - loss: 1.3665 - acc: 0.8123 - val_loss: 1.5770 - val_acc: 0.7964\n",
            "Epoch 8/50\n",
            "20/20 [==============================] - 22s 1s/step - loss: 1.3347 - acc: 0.8126 - val_loss: 1.5739 - val_acc: 0.7966\n",
            "Epoch 9/50\n",
            "20/20 [==============================] - 22s 1s/step - loss: 1.3103 - acc: 0.8128 - val_loss: 1.5482 - val_acc: 0.7965\n",
            "Epoch 10/50\n",
            "20/20 [==============================] - 22s 1s/step - loss: 1.2867 - acc: 0.8137 - val_loss: 1.5503 - val_acc: 0.7972\n",
            "Epoch 11/50\n",
            "20/20 [==============================] - 21s 1s/step - loss: 1.2679 - acc: 0.8147 - val_loss: 1.5298 - val_acc: 0.7988\n",
            "Epoch 12/50\n",
            "20/20 [==============================] - 21s 1s/step - loss: 1.2472 - acc: 0.8159 - val_loss: 1.5182 - val_acc: 0.7991\n",
            "Epoch 13/50\n",
            "20/20 [==============================] - 21s 1s/step - loss: 1.2288 - acc: 0.8174 - val_loss: 1.5084 - val_acc: 0.7994\n",
            "Epoch 14/50\n",
            "20/20 [==============================] - 21s 1s/step - loss: 1.2124 - acc: 0.8185 - val_loss: 1.4992 - val_acc: 0.7999\n",
            "Epoch 15/50\n",
            "20/20 [==============================] - 21s 1s/step - loss: 1.1948 - acc: 0.8186 - val_loss: 1.4870 - val_acc: 0.8000\n",
            "Epoch 16/50\n",
            "20/20 [==============================] - 21s 1s/step - loss: 1.1801 - acc: 0.8192 - val_loss: 1.4791 - val_acc: 0.8004\n",
            "Epoch 17/50\n",
            "20/20 [==============================] - 21s 1s/step - loss: 1.1649 - acc: 0.8200 - val_loss: 1.4853 - val_acc: 0.8002\n",
            "Epoch 18/50\n",
            "20/20 [==============================] - 21s 1s/step - loss: 1.1508 - acc: 0.8202 - val_loss: 1.4719 - val_acc: 0.8003\n",
            "Epoch 19/50\n",
            "20/20 [==============================] - 22s 1s/step - loss: 1.1383 - acc: 0.8211 - val_loss: 1.4577 - val_acc: 0.8021\n",
            "Epoch 20/50\n",
            "20/20 [==============================] - 21s 1s/step - loss: 1.1235 - acc: 0.8216 - val_loss: 1.4473 - val_acc: 0.8015\n",
            "Epoch 21/50\n",
            "20/20 [==============================] - 21s 1s/step - loss: 1.1110 - acc: 0.8224 - val_loss: 1.4409 - val_acc: 0.8032\n",
            "Epoch 22/50\n",
            "20/20 [==============================] - 21s 1s/step - loss: 1.0984 - acc: 0.8231 - val_loss: 1.4339 - val_acc: 0.8029\n",
            "Epoch 23/50\n",
            "20/20 [==============================] - 21s 1s/step - loss: 1.0867 - acc: 0.8240 - val_loss: 1.4267 - val_acc: 0.8036\n",
            "Epoch 24/50\n",
            "20/20 [==============================] - 22s 1s/step - loss: 1.0743 - acc: 0.8245 - val_loss: 1.4240 - val_acc: 0.8038\n",
            "Epoch 25/50\n",
            "20/20 [==============================] - 21s 1s/step - loss: 1.0633 - acc: 0.8247 - val_loss: 1.4139 - val_acc: 0.8045\n",
            "Epoch 26/50\n",
            "20/20 [==============================] - 21s 1s/step - loss: 1.0502 - acc: 0.8258 - val_loss: 1.4061 - val_acc: 0.8053\n",
            "Epoch 27/50\n",
            "20/20 [==============================] - 21s 1s/step - loss: 1.0388 - acc: 0.8261 - val_loss: 1.4028 - val_acc: 0.8051\n",
            "Epoch 28/50\n",
            "20/20 [==============================] - 21s 1s/step - loss: 1.0266 - acc: 0.8270 - val_loss: 1.3922 - val_acc: 0.8061\n",
            "Epoch 29/50\n",
            "20/20 [==============================] - 21s 1s/step - loss: 1.0143 - acc: 0.8282 - val_loss: 1.3820 - val_acc: 0.8073\n",
            "Epoch 30/50\n",
            "20/20 [==============================] - 21s 1s/step - loss: 1.0030 - acc: 0.8289 - val_loss: 1.3736 - val_acc: 0.8081\n",
            "Epoch 31/50\n",
            "20/20 [==============================] - 21s 1s/step - loss: 0.9905 - acc: 0.8301 - val_loss: 1.3672 - val_acc: 0.8079\n",
            "Epoch 32/50\n",
            "20/20 [==============================] - 21s 1s/step - loss: 0.9781 - acc: 0.8305 - val_loss: 1.3665 - val_acc: 0.8082\n",
            "Epoch 33/50\n",
            "20/20 [==============================] - 21s 1s/step - loss: 0.9667 - acc: 0.8315 - val_loss: 1.3543 - val_acc: 0.8096\n",
            "Epoch 34/50\n",
            "20/20 [==============================] - 21s 1s/step - loss: 0.9538 - acc: 0.8326 - val_loss: 1.3508 - val_acc: 0.8103\n",
            "Epoch 35/50\n",
            "20/20 [==============================] - 21s 1s/step - loss: 0.9440 - acc: 0.8327 - val_loss: 1.3480 - val_acc: 0.8103\n",
            "Epoch 36/50\n",
            "20/20 [==============================] - 21s 1s/step - loss: 0.9322 - acc: 0.8339 - val_loss: 1.3322 - val_acc: 0.8119\n",
            "Epoch 37/50\n",
            "20/20 [==============================] - 22s 1s/step - loss: 0.9198 - acc: 0.8348 - val_loss: 1.3262 - val_acc: 0.8125\n",
            "Epoch 38/50\n",
            "20/20 [==============================] - 22s 1s/step - loss: 0.9083 - acc: 0.8362 - val_loss: 1.3181 - val_acc: 0.8131\n",
            "Epoch 39/50\n",
            "20/20 [==============================] - 22s 1s/step - loss: 0.8978 - acc: 0.8362 - val_loss: 1.3106 - val_acc: 0.8146\n",
            "Epoch 40/50\n",
            "20/20 [==============================] - 21s 1s/step - loss: 0.8867 - acc: 0.8380 - val_loss: 1.3022 - val_acc: 0.8156\n",
            "Epoch 41/50\n",
            "20/20 [==============================] - 22s 1s/step - loss: 0.8743 - acc: 0.8387 - val_loss: 1.3002 - val_acc: 0.8154\n",
            "Epoch 42/50\n",
            "20/20 [==============================] - 22s 1s/step - loss: 0.8644 - acc: 0.8396 - val_loss: 1.2884 - val_acc: 0.8176\n",
            "Epoch 43/50\n",
            "20/20 [==============================] - 23s 1s/step - loss: 0.8527 - acc: 0.8408 - val_loss: 1.2818 - val_acc: 0.8194\n",
            "Epoch 44/50\n",
            "20/20 [==============================] - 22s 1s/step - loss: 0.8428 - acc: 0.8423 - val_loss: 1.2772 - val_acc: 0.8185\n",
            "Epoch 45/50\n",
            "20/20 [==============================] - 22s 1s/step - loss: 0.8321 - acc: 0.8432 - val_loss: 1.2685 - val_acc: 0.8206\n",
            "Epoch 46/50\n",
            "20/20 [==============================] - 22s 1s/step - loss: 0.8216 - acc: 0.8441 - val_loss: 1.2636 - val_acc: 0.8217\n",
            "Epoch 47/50\n",
            "20/20 [==============================] - 23s 1s/step - loss: 0.8091 - acc: 0.8458 - val_loss: 1.2624 - val_acc: 0.8210\n",
            "Epoch 48/50\n",
            "20/20 [==============================] - 22s 1s/step - loss: 0.7991 - acc: 0.8474 - val_loss: 1.2516 - val_acc: 0.8243\n",
            "Epoch 49/50\n",
            "20/20 [==============================] - 22s 1s/step - loss: 0.7891 - acc: 0.8481 - val_loss: 1.2517 - val_acc: 0.8245\n",
            "Epoch 50/50\n",
            "20/20 [==============================] - 22s 1s/step - loss: 0.7788 - acc: 0.8501 - val_loss: 1.2341 - val_acc: 0.8273\n"
          ],
          "name": "stdout"
        },
        {
          "output_type": "execute_result",
          "data": {
            "text/plain": [
              "<tensorflow.python.keras.callbacks.History at 0x7f22a8484f28>"
            ]
          },
          "metadata": {
            "tags": []
          },
          "execution_count": 51
        }
      ]
    },
    {
      "cell_type": "code",
      "metadata": {
        "id": "T_QT0fA4yf8n"
      },
      "source": [
        "encoder_model = Model(encoder_inputs, [encoder_outputs, h_state, c_state])\n",
        "\n",
        "encoder_h_state = Input(shape=(120,))\n",
        "encoder_c_state = Input(shape=(120,))\n",
        "\n",
        "pd_decoder_outputs,pd_h_state,pd_c_state = decoder_lstm(decoder_mask,\n",
        "                                                        initial_state=[encoder_h_state,encoder_c_state])\n",
        "\n",
        "pd_encoder_outputs = Input(shape=(14,120))\n",
        "pd_attn_out, pd_attn_states = attn_layer([pd_encoder_outputs, pd_decoder_outputs])\n",
        "pd_decoder_concat = Concatenate()([pd_decoder_outputs, pd_attn_out])\n",
        "\n",
        "pd_decoder_softmax_outputs = decoder_dense(pd_decoder_concat)\n",
        "\n",
        "decoder_model = Model([decoder_inputs, pd_encoder_outputs, encoder_h_state, encoder_c_state],\n",
        "                      [pd_decoder_softmax_outputs, pd_h_state, pd_c_state])"
      ],
      "execution_count": null,
      "outputs": []
    },
    {
      "cell_type": "code",
      "metadata": {
        "id": "zG5lpJTmyf1h",
        "outputId": "636587fd-3070-4587-d672-f1ca73a9ef47",
        "colab": {
          "base_uri": "https://localhost:8080/",
          "height": 51
        }
      },
      "source": [
        "input_stc = input()\n",
        "token_stc = input_stc.split()\n",
        "encode_stc = tokenizer_text.texts_to_sequences([token_stc])\n",
        "pad_stc = pad_sequences(encode_stc, maxlen=19, padding='post')\n",
        "\n",
        "en_out, en_hidden, en_cell = encoder_model.predict(pad_stc)\n",
        "\n",
        "predicted_seq = np.zeros((1,1))\n",
        "predicted_seq[0,0] = title_to_index[\"<start>\"]\n",
        "\n",
        "decoded_stc = []\n",
        "\n",
        "while True:\n",
        "    output_words, h, c = decoder_model.predict([predicted_seq, en_out, en_hidden, en_cell])\n",
        "    predicted_word = index_to_title[np.argmax(output_words[0,0])]\n",
        "    \n",
        "    if predicted_word == \"<end>\":\n",
        "        break\n",
        "    \n",
        "    decoded_stc.append(predicted_word)\n",
        "\n",
        "    predicted_seq = np.zeros((1,1))\n",
        "    predicted_seq[0, 0] = np.argmax(output_words[0,0])\n",
        "\n",
        "    en_hidden = h\n",
        "    en_cell = c\n",
        "\n",
        "print(\" \".join(decoded_stc))"
      ],
      "execution_count": null,
      "outputs": [
        {
          "output_type": "stream",
          "text": [
            "이천햅쌀라떼가 뭐죠?\n",
            "네 비밀번호는 브랜드 방금 떨어져서 결제\n"
          ],
          "name": "stdout"
        }
      ]
    },
    {
      "cell_type": "code",
      "metadata": {
        "id": "dQLjSbdYyfwR"
      },
      "source": [
        ""
      ],
      "execution_count": null,
      "outputs": []
    }
  ]
}